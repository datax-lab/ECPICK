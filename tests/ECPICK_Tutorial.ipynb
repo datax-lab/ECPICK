{
  "nbformat": 4,
  "nbformat_minor": 0,
  "metadata": {
    "colab": {
      "provenance": []
    },
    "kernelspec": {
      "name": "python3",
      "display_name": "Python 3"
    },
    "language_info": {
      "name": "python"
    }
  },
  "cells": [
    {
      "cell_type": "markdown",
      "source": [
        "# ECPICK Tutorial"
      ],
      "metadata": {
        "id": "CfvScf2tvP-w"
      }
    },
    {
      "cell_type": "code",
      "execution_count": 1,
      "metadata": {
        "colab": {
          "base_uri": "https://localhost:8080/",
          "height": 1000
        },
        "id": "VSWFahEBvPM0",
        "outputId": "3400c8b7-2e23-4785-8bc3-8ef72eee70a4"
      },
      "outputs": [
        {
          "output_type": "stream",
          "name": "stdout",
          "text": [
            "Collecting ecpick\n",
            "  Downloading ecpick-0.0.1-py3-none-any.whl (12 kB)\n",
            "Collecting biopython==1.78 (from ecpick)\n",
            "  Downloading biopython-1.78.tar.gz (16.9 MB)\n",
            "\u001b[2K     \u001b[90m━━━━━━━━━━━━━━━━━━━━━━━━━━━━━━━━━━━━━━━━\u001b[0m \u001b[32m16.9/16.9 MB\u001b[0m \u001b[31m90.3 MB/s\u001b[0m eta \u001b[36m0:00:00\u001b[0m\n",
            "\u001b[?25h  Preparing metadata (setup.py) ... \u001b[?25l\u001b[?25hdone\n",
            "Collecting numpy==1.23.2 (from ecpick)\n",
            "  Downloading numpy-1.23.2-cp310-cp310-manylinux_2_17_x86_64.manylinux2014_x86_64.whl (17.0 MB)\n",
            "\u001b[2K     \u001b[90m━━━━━━━━━━━━━━━━━━━━━━━━━━━━━━━━━━━━━━━━\u001b[0m \u001b[32m17.0/17.0 MB\u001b[0m \u001b[31m17.9 MB/s\u001b[0m eta \u001b[36m0:00:00\u001b[0m\n",
            "\u001b[?25hCollecting torch==1.12.1 (from ecpick)\n",
            "  Downloading torch-1.12.1-cp310-cp310-manylinux1_x86_64.whl (776.3 MB)\n",
            "\u001b[2K     \u001b[90m━━━━━━━━━━━━━━━━━━━━━━━━━━━━━━━━━━━━━━━\u001b[0m \u001b[32m776.3/776.3 MB\u001b[0m \u001b[31m2.2 MB/s\u001b[0m eta \u001b[36m0:00:00\u001b[0m\n",
            "\u001b[?25hCollecting torchvision==0.13.1 (from ecpick)\n",
            "  Downloading torchvision-0.13.1-cp310-cp310-manylinux1_x86_64.whl (19.1 MB)\n",
            "\u001b[2K     \u001b[90m━━━━━━━━━━━━━━━━━━━━━━━━━━━━━━━━━━━━━━━\u001b[0m \u001b[32m19.1/19.1 MB\u001b[0m \u001b[31m107.8 MB/s\u001b[0m eta \u001b[36m0:00:00\u001b[0m\n",
            "\u001b[?25hCollecting torchaudio==0.12.1 (from ecpick)\n",
            "  Downloading torchaudio-0.12.1-cp310-cp310-manylinux1_x86_64.whl (3.7 MB)\n",
            "\u001b[2K     \u001b[90m━━━━━━━━━━━━━━━━━━━━━━━━━━━━━━━━━━━━━━━━\u001b[0m \u001b[32m3.7/3.7 MB\u001b[0m \u001b[31m119.8 MB/s\u001b[0m eta \u001b[36m0:00:00\u001b[0m\n",
            "\u001b[?25hCollecting scikit-learn==1.1.2 (from ecpick)\n",
            "  Downloading scikit_learn-1.1.2-cp310-cp310-manylinux_2_17_x86_64.manylinux2014_x86_64.whl (30.5 MB)\n",
            "\u001b[2K     \u001b[90m━━━━━━━━━━━━━━━━━━━━━━━━━━━━━━━━━━━━━━━━\u001b[0m \u001b[32m30.5/30.5 MB\u001b[0m \u001b[31m65.9 MB/s\u001b[0m eta \u001b[36m0:00:00\u001b[0m\n",
            "\u001b[?25hCollecting tqdm==4.64.0 (from ecpick)\n",
            "  Downloading tqdm-4.64.0-py2.py3-none-any.whl (78 kB)\n",
            "\u001b[2K     \u001b[90m━━━━━━━━━━━━━━━━━━━━━━━━━━━━━━━━━━━━━━━━\u001b[0m \u001b[32m78.4/78.4 kB\u001b[0m \u001b[31m11.3 MB/s\u001b[0m eta \u001b[36m0:00:00\u001b[0m\n",
            "\u001b[?25hRequirement already satisfied: scipy>=1.3.2 in /usr/local/lib/python3.10/dist-packages (from scikit-learn==1.1.2->ecpick) (1.10.1)\n",
            "Requirement already satisfied: joblib>=1.0.0 in /usr/local/lib/python3.10/dist-packages (from scikit-learn==1.1.2->ecpick) (1.3.2)\n",
            "Requirement already satisfied: threadpoolctl>=2.0.0 in /usr/local/lib/python3.10/dist-packages (from scikit-learn==1.1.2->ecpick) (3.2.0)\n",
            "Requirement already satisfied: typing-extensions in /usr/local/lib/python3.10/dist-packages (from torch==1.12.1->ecpick) (4.7.1)\n",
            "Requirement already satisfied: requests in /usr/local/lib/python3.10/dist-packages (from torchvision==0.13.1->ecpick) (2.31.0)\n",
            "Requirement already satisfied: pillow!=8.3.*,>=5.3.0 in /usr/local/lib/python3.10/dist-packages (from torchvision==0.13.1->ecpick) (9.4.0)\n",
            "Requirement already satisfied: charset-normalizer<4,>=2 in /usr/local/lib/python3.10/dist-packages (from requests->torchvision==0.13.1->ecpick) (3.2.0)\n",
            "Requirement already satisfied: idna<4,>=2.5 in /usr/local/lib/python3.10/dist-packages (from requests->torchvision==0.13.1->ecpick) (3.4)\n",
            "Requirement already satisfied: urllib3<3,>=1.21.1 in /usr/local/lib/python3.10/dist-packages (from requests->torchvision==0.13.1->ecpick) (2.0.4)\n",
            "Requirement already satisfied: certifi>=2017.4.17 in /usr/local/lib/python3.10/dist-packages (from requests->torchvision==0.13.1->ecpick) (2023.7.22)\n",
            "Building wheels for collected packages: biopython\n",
            "  Building wheel for biopython (setup.py) ... \u001b[?25l\u001b[?25hdone\n",
            "  Created wheel for biopython: filename=biopython-1.78-cp310-cp310-linux_x86_64.whl size=2522743 sha256=3f1264e0874506b5c6dd0b88ab4b8188c93cf72da9d6fec47b16ba50249ad949\n",
            "  Stored in directory: /root/.cache/pip/wheels/f4/78/7e/80aee85fcec55f1b378951070af38ebf4d1d147264bc475fc1\n",
            "Successfully built biopython\n",
            "Installing collected packages: tqdm, torch, numpy, torchvision, torchaudio, biopython, scikit-learn, ecpick\n",
            "  Attempting uninstall: tqdm\n",
            "    Found existing installation: tqdm 4.66.1\n",
            "    Uninstalling tqdm-4.66.1:\n",
            "      Successfully uninstalled tqdm-4.66.1\n",
            "  Attempting uninstall: torch\n",
            "    Found existing installation: torch 2.0.1+cu118\n",
            "    Uninstalling torch-2.0.1+cu118:\n",
            "      Successfully uninstalled torch-2.0.1+cu118\n",
            "  Attempting uninstall: numpy\n",
            "    Found existing installation: numpy 1.23.5\n",
            "    Uninstalling numpy-1.23.5:\n",
            "      Successfully uninstalled numpy-1.23.5\n",
            "  Attempting uninstall: torchvision\n",
            "    Found existing installation: torchvision 0.15.2+cu118\n",
            "    Uninstalling torchvision-0.15.2+cu118:\n",
            "      Successfully uninstalled torchvision-0.15.2+cu118\n",
            "  Attempting uninstall: torchaudio\n",
            "    Found existing installation: torchaudio 2.0.2+cu118\n",
            "    Uninstalling torchaudio-2.0.2+cu118:\n",
            "      Successfully uninstalled torchaudio-2.0.2+cu118\n",
            "  Attempting uninstall: scikit-learn\n",
            "    Found existing installation: scikit-learn 1.2.2\n",
            "    Uninstalling scikit-learn-1.2.2:\n",
            "      Successfully uninstalled scikit-learn-1.2.2\n",
            "\u001b[31mERROR: pip's dependency resolver does not currently take into account all the packages that are installed. This behaviour is the source of the following dependency conflicts.\n",
            "torchdata 0.6.1 requires torch==2.0.1, but you have torch 1.12.1 which is incompatible.\n",
            "torchtext 0.15.2 requires torch==2.0.1, but you have torch 1.12.1 which is incompatible.\u001b[0m\u001b[31m\n",
            "\u001b[0mSuccessfully installed biopython-1.78 ecpick-0.0.1 numpy-1.23.2 scikit-learn-1.1.2 torch-1.12.1 torchaudio-0.12.1 torchvision-0.13.1 tqdm-4.64.0\n"
          ]
        },
        {
          "output_type": "display_data",
          "data": {
            "application/vnd.colab-display-data+json": {
              "pip_warning": {
                "packages": [
                  "numpy"
                ]
              }
            }
          },
          "metadata": {}
        }
      ],
      "source": [
        "!pip install ecpick"
      ]
    },
    {
      "cell_type": "code",
      "source": [
        "!wget https://raw.githubusercontent.com/datax-lab/ECPICK/main/tests/sample.fasta"
      ],
      "metadata": {
        "colab": {
          "base_uri": "https://localhost:8080/"
        },
        "id": "mAwI_O95v8wc",
        "outputId": "f8e55124-6eed-4cda-f533-925eb8d88e17"
      },
      "execution_count": 2,
      "outputs": [
        {
          "output_type": "stream",
          "name": "stdout",
          "text": [
            "--2023-08-31 08:40:09--  https://raw.githubusercontent.com/datax-lab/ECPICK/main/tests/sample.fasta\n",
            "Resolving raw.githubusercontent.com (raw.githubusercontent.com)... 185.199.108.133, 185.199.109.133, 185.199.110.133, ...\n",
            "Connecting to raw.githubusercontent.com (raw.githubusercontent.com)|185.199.108.133|:443... connected.\n",
            "HTTP request sent, awaiting response... 200 OK\n",
            "Length: 1217 (1.2K) [text/plain]\n",
            "Saving to: ‘sample.fasta’\n",
            "\n",
            "\rsample.fasta          0%[                    ]       0  --.-KB/s               \rsample.fasta        100%[===================>]   1.19K  --.-KB/s    in 0s      \n",
            "\n",
            "2023-08-31 08:40:09 (98.2 MB/s) - ‘sample.fasta’ saved [1217/1217]\n",
            "\n"
          ]
        }
      ]
    },
    {
      "cell_type": "code",
      "source": [
        "from ecpick import ECPICK\n",
        "\n",
        "ecpick = ECPICK()\n",
        "ecpick.predict_fasta(fasta_path='sample.fasta', output_path='output')"
      ],
      "metadata": {
        "colab": {
          "base_uri": "https://localhost:8080/"
        },
        "id": "8eSG0KQjvkGs",
        "outputId": "d701d66a-2313-4b7f-d9c1-48d2367ea285"
      },
      "execution_count": 3,
      "outputs": [
        {
          "output_type": "stream",
          "name": "stdout",
          "text": [
            "2023-08-31 08:40:16   INFO : #### CUDA Settings ####\n",
            "2023-08-31 08:40:16   INFO : > Is CUDA available? False\n",
            "2023-08-31 08:40:16   INFO : #### Load Predictable Classes ####\n",
            "2023-08-31 08:40:16   INFO : > Load output classes\n",
            "2023-08-31 08:40:16   WARN : > Not Exist Classes file. Start download\n"
          ]
        },
        {
          "output_type": "stream",
          "name": "stderr",
          "text": [
            "100%|██████████| 221k/221k [00:00<00:00, 464kiB/s]\n"
          ]
        },
        {
          "output_type": "stream",
          "name": "stdout",
          "text": [
            "2023-08-31 08:40:17   WARN : > Download Complete\n",
            "2023-08-31 08:40:17   INFO : > Cursor: [[0, 7], [7, 80], [80, 344], [344, 5154]]\n",
            "2023-08-31 08:40:17   INFO : #### Load Model ####\n",
            "2023-08-31 08:40:17   WARN : > Not Exist Models file. Start download\n"
          ]
        },
        {
          "output_type": "stream",
          "name": "stderr",
          "text": [
            "100%|██████████| 315M/315M [00:28<00:00, 10.9MiB/s]\n"
          ]
        },
        {
          "output_type": "stream",
          "name": "stdout",
          "text": [
            "2023-08-31 08:40:47   WARN : > Download Complete, Start Extracting...\n",
            "2023-08-31 08:40:49   WARN : > Extract Complete\n",
            "2023-08-31 08:40:49   INFO : > Load Model 1\n",
            "2023-08-31 08:40:49   INFO : > Load Model 2\n",
            "2023-08-31 08:40:49   INFO : > Load Model 3\n",
            "2023-08-31 08:40:49   INFO : > Load Model 4\n",
            "2023-08-31 08:40:49   INFO : > Load Model 5\n",
            "2023-08-31 08:40:49   INFO : > Load Model 6\n",
            "2023-08-31 08:40:49   INFO : > Load Model 7\n",
            "2023-08-31 08:40:49   INFO : > Load Model 8\n",
            "2023-08-31 08:40:50   INFO : > Load Model 9\n",
            "2023-08-31 08:40:50   INFO : > Load Model 10\n",
            "2023-08-31 08:40:50   INFO : #### Load Sequence ####\n",
            "2023-08-31 08:40:50   INFO : > Number of Sequence: (3, 1, 1000, 21)\n",
            "2023-08-31 08:40:50   INFO : #### Start Predict Process ####\n",
            "2023-08-31 08:40:50   INFO : > Elapsed Time: 224ms\n",
            "2023-08-31 08:40:50   INFO : #### Finish Predict Process ####\n",
            "2023-08-31 08:40:50   INFO : Result: ID=F8DVL8|alcohol, EC=['1.1.1.1'], Prob=[37.38344192504883]\n",
            "F8DVL8|alcohol,1.1.1.1,37.38344192504883\n",
            "2023-08-31 08:40:50   INFO : Result: ID=F8DVL7|alcohol, EC=['1.1.1.1'], Prob=[37.38344192504883]\n",
            "F8DVL7|alcohol,1.1.1.1,37.38344192504883\n",
            "2023-08-31 08:40:50   INFO : Result: ID=F8DVL6|alcohol, EC=['1.1.1.1'], Prob=[37.38344192504883]\n",
            "F8DVL6|alcohol,1.1.1.1,37.38344192504883\n"
          ]
        }
      ]
    }
  ]
}
